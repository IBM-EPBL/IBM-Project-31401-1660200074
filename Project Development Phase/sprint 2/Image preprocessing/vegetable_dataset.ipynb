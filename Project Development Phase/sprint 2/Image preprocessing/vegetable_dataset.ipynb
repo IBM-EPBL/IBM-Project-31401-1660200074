{
  "nbformat": 4,
  "nbformat_minor": 0,
  "metadata": {
    "colab": {
      "provenance": []
    },
    "kernelspec": {
      "name": "python3",
      "display_name": "Python 3"
    },
    "language_info": {
      "name": "python"
    }
  },
  "cells": [
    {
      "cell_type": "code",
      "execution_count": 3,
      "metadata": {
        "id": "djNuSEHLHe6R"
      },
      "outputs": [],
      "source": [
        "from keras.preprocessing.image import ImageDataGenerator\n",
        "train_datagen = ImageDataGenerator(rescale = 1./255,shear_range = 0.2,zoom_range = 0.2,horizontal_flip = True)\n",
        "test_datagen = ImageDataGenerator(rescale = 1)"
      ]
    },
    {
      "cell_type": "code",
      "source": [
        "from google.colab import drive\n",
        "drive.mount('/content/drive')"
      ],
      "metadata": {
        "colab": {
          "base_uri": "https://localhost:8080/"
        },
        "id": "LND1FtpRqLKb",
        "outputId": "8e387abb-ba5a-4882-b2ad-a1c13e4fdb13"
      },
      "execution_count": 1,
      "outputs": [
        {
          "output_type": "stream",
          "name": "stdout",
          "text": [
            "Mounted at /content/drive\n"
          ]
        }
      ]
    },
    {
      "cell_type": "code",
      "source": [
        "x_train = train_datagen.flow_from_directory('/content/drive/MyDrive/Dataset Plant Disease/Veg-dataset/train_set',target_size = (128,128),batch_size = 32,class_mode = 'categorical')\n",
        "x_test = test_datagen.flow_from_directory('/content/drive/MyDrive/Dataset Plant Disease/Veg-dataset/test_set',target_size = (128,128),batch_size = 32,class_mode = 'categorical')"
      ],
      "metadata": {
        "id": "FxK21kiwHq6k",
        "colab": {
          "base_uri": "https://localhost:8080/"
        },
        "outputId": "5a1536a7-4bd4-46c9-fbc1-2802aed3c2b2"
      },
      "execution_count": 4,
      "outputs": [
        {
          "output_type": "stream",
          "name": "stdout",
          "text": [
            "Found 5354 images belonging to 9 classes.\n",
            "Found 3416 images belonging to 9 classes.\n"
          ]
        }
      ]
    }
  ]
}