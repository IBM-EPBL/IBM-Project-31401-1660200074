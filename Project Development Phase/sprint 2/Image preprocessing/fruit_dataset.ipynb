{
  "nbformat": 4,
  "nbformat_minor": 0,
  "metadata": {
    "colab": {
      "provenance": []
    },
    "kernelspec": {
      "name": "python3",
      "display_name": "Python 3"
    },
    "language_info": {
      "name": "python"
    }
  },
  "cells": [
    {
      "cell_type": "code",
      "execution_count": 1,
      "metadata": {
        "id": "9cBE3EMstXYv"
      },
      "outputs": [],
      "source": [
        "from keras.preprocessing.image import ImageDataGenerator\n",
        "train_datagen = ImageDataGenerator(rescale = 1./255,shear_range = 0.2,zoom_range = 0.2,horizontal_flip = True)\n",
        "test_datagen = ImageDataGenerator(rescale = 1)"
      ]
    },
    {
      "cell_type": "code",
      "source": [
        "x_train = train_datagen.flow_from_directory('/content/drive/MyDrive/Dataset Plant Disease/fruit-dataset/train',target_size = (128,128),batch_size = 32,class_mode = 'categorical')\n",
        "x_test = test_datagen.flow_from_directory('/content/drive/MyDrive/Dataset Plant Disease/fruit-dataset/test',target_size = (128,128),batch_size = 32,class_mode = 'categorical')"
      ],
      "metadata": {
        "colab": {
          "base_uri": "https://localhost:8080/"
        },
        "id": "Z8mis8FrtbFM",
        "outputId": "d18af0f2-754f-42ec-dede-a1196cdc88a8"
      },
      "execution_count": 2,
      "outputs": [
        {
          "output_type": "stream",
          "name": "stdout",
          "text": [
            "Found 4822 images belonging to 6 classes.\n",
            "Found 1273 images belonging to 6 classes.\n"
          ]
        }
      ]
    }
  ]
}